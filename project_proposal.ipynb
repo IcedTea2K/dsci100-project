{
 "cells": [
  {
   "cell_type": "markdown",
   "id": "68f97a12-4b42-4042-8472-449573116acc",
   "metadata": {},
   "source": [
    "# Group Project\n",
    "### Members:\n",
    "- Minh Au\n",
    "- Andrew Carriere\n",
    "- Veronika Bumbulovic\n",
    "- Kevin Yoon Jeong"
   ]
  },
  {
   "cell_type": "markdown",
   "id": "5ce951ad-9511-4679-abf4-8abada1432b5",
   "metadata": {},
   "source": [
    "## Preliminary exploratory data analysis\n",
    "The following two cells will load necessary libraries and read in the data which is nescessary as the first step for the analysis."
   ]
  },
  {
   "cell_type": "code",
   "execution_count": 101,
   "id": "f6e0041f-1732-4116-85d7-46ae760287fa",
   "metadata": {},
   "outputs": [],
   "source": [
    "library(tidyverse)\n",
    "library(repr)\n",
    "library(tidymodels)"
   ]
  },
  {
   "cell_type": "code",
   "execution_count": 149,
   "id": "f0e546dc-03c4-45a1-87a9-79e6aab74594",
   "metadata": {},
   "outputs": [
    {
     "name": "stderr",
     "output_type": "stream",
     "text": [
      "\u001b[1mRows: \u001b[22m\u001b[34m2940\u001b[39m \u001b[1mColumns: \u001b[22m\u001b[34m1\u001b[39m\n",
      "\u001b[36m──\u001b[39m \u001b[1mColumn specification\u001b[22m \u001b[36m────────────────────────────────────────────────────────\u001b[39m\n",
      "\u001b[1mDelimiter:\u001b[22m \",\"\n",
      "\u001b[31mchr\u001b[39m (1): X1\n",
      "\n",
      "\u001b[36mℹ\u001b[39m Use `spec()` to retrieve the full column specification for this data.\n",
      "\u001b[36mℹ\u001b[39m Specify the column types or set `show_col_types = FALSE` to quiet this message.\n"
     ]
    },
    {
     "data": {
      "text/html": [
       "<table class=\"dataframe\">\n",
       "<caption>A tibble: 10 × 1</caption>\n",
       "<thead>\n",
       "\t<tr><th scope=col>X1</th></tr>\n",
       "\t<tr><th scope=col>&lt;chr&gt;</th></tr>\n",
       "</thead>\n",
       "<tbody>\n",
       "\t<tr><td>1254 0 40 1 1 0 0        </td></tr>\n",
       "\t<tr><td>-9 2 140 0 289 -9 -9 -9  </td></tr>\n",
       "\t<tr><td>0 -9 -9 0 12 16 84 0     </td></tr>\n",
       "\t<tr><td>0 0 0 0 150 18 -9 7      </td></tr>\n",
       "\t<tr><td>172 86 200 110 140 86 0 0</td></tr>\n",
       "\t<tr><td>0 -9 26 20 -9 -9 -9 -9   </td></tr>\n",
       "\t<tr><td>-9 -9 -9 -9 -9 -9 -9 12  </td></tr>\n",
       "\t<tr><td>20 84 0 -9 -9 -9 -9 -9   </td></tr>\n",
       "\t<tr><td>-9 -9 -9 -9 -9 1 1 1     </td></tr>\n",
       "\t<tr><td>1 1 -9. -9. name         </td></tr>\n",
       "</tbody>\n",
       "</table>\n"
      ],
      "text/latex": [
       "A tibble: 10 × 1\n",
       "\\begin{tabular}{l}\n",
       " X1\\\\\n",
       " <chr>\\\\\n",
       "\\hline\n",
       "\t 1254 0 40 1 1 0 0        \\\\\n",
       "\t -9 2 140 0 289 -9 -9 -9  \\\\\n",
       "\t 0 -9 -9 0 12 16 84 0     \\\\\n",
       "\t 0 0 0 0 150 18 -9 7      \\\\\n",
       "\t 172 86 200 110 140 86 0 0\\\\\n",
       "\t 0 -9 26 20 -9 -9 -9 -9   \\\\\n",
       "\t -9 -9 -9 -9 -9 -9 -9 12  \\\\\n",
       "\t 20 84 0 -9 -9 -9 -9 -9   \\\\\n",
       "\t -9 -9 -9 -9 -9 1 1 1     \\\\\n",
       "\t 1 1 -9. -9. name         \\\\\n",
       "\\end{tabular}\n"
      ],
      "text/markdown": [
       "\n",
       "A tibble: 10 × 1\n",
       "\n",
       "| X1 &lt;chr&gt; |\n",
       "|---|\n",
       "| 1254 0 40 1 1 0 0         |\n",
       "| -9 2 140 0 289 -9 -9 -9   |\n",
       "| 0 -9 -9 0 12 16 84 0      |\n",
       "| 0 0 0 0 150 18 -9 7       |\n",
       "| 172 86 200 110 140 86 0 0 |\n",
       "| 0 -9 26 20 -9 -9 -9 -9    |\n",
       "| -9 -9 -9 -9 -9 -9 -9 12   |\n",
       "| 20 84 0 -9 -9 -9 -9 -9    |\n",
       "| -9 -9 -9 -9 -9 1 1 1      |\n",
       "| 1 1 -9. -9. name          |\n",
       "\n"
      ],
      "text/plain": [
       "   X1                       \n",
       "1  1254 0 40 1 1 0 0        \n",
       "2  -9 2 140 0 289 -9 -9 -9  \n",
       "3  0 -9 -9 0 12 16 84 0     \n",
       "4  0 0 0 0 150 18 -9 7      \n",
       "5  172 86 200 110 140 86 0 0\n",
       "6  0 -9 26 20 -9 -9 -9 -9   \n",
       "7  -9 -9 -9 -9 -9 -9 -9 12  \n",
       "8  20 84 0 -9 -9 -9 -9 -9   \n",
       "9  -9 -9 -9 -9 -9 1 1 1     \n",
       "10 1 1 -9. -9. name         "
      ]
     },
     "metadata": {},
     "output_type": "display_data"
    }
   ],
   "source": [
    "# Reading the ata\n",
    "heart_data <- read_csv(\"data/hungarian-heart.csv\", col_names = FALSE)\n",
    "head(heart_data, 10)"
   ]
  },
  {
   "cell_type": "markdown",
   "id": "f3d56b1a-28ea-48ba-91b5-8f5bb7efb134",
   "metadata": {},
   "source": [
    "As seen in the small subset above, the data is not in tidy format and thus, is not ready for analysis. From the documentations, we know that there are 76 attributes, but currently, they are all grouped in one column. Furthermore, the 76 attributes are spread across 10 different lines with different number of attributes on each line (some with 7 while the others only have 8). As such, the data wrangling strategy is as follows:\n",
    "1. Combine the 76 attributes into one row. They need to be separated by a specific delimiter such as \",\".\n",
    "2. Each rows are separated out into multiple columns.\n",
    "3. Load the names of the attributes \n",
    "3. Select the 7 factors decribed in the method section and convert them into number or categorical."
   ]
  },
  {
   "cell_type": "code",
   "execution_count": 190,
   "id": "d5e59bf0-fad5-4726-945b-7b660c79d1a1",
   "metadata": {},
   "outputs": [
    {
     "name": "stderr",
     "output_type": "stream",
     "text": [
      "Warning message:\n",
      "“Expected 8 pieces. Missing pieces filled with `NA` in 589 rows [1, 10, 11, 20, 21, 30, 31, 40, 41, 50, 51, 60, 61, 70, 71, 80, 81, 90, 91, 100, ...].”\n"
     ]
    }
   ],
   "source": [
    "separated_with_commas <- heart_data |>\n",
    "    separate(col = X1, into = c(\"X1\", \"X2\", \"X3\", \"X4\", \"X6\", \"X7\", \"X8\", \"X9\"), sep = \" \") |>\n",
    "    rowwise() |>\n",
    "    mutate(combined_col = paste0(str_replace_na(c_across(X1:X9), replacement = \"\"), collapse = \",\")) |>\n",
    "    ungroup() |>\n",
    "    select(combined_col)"
   ]
  },
  {
   "cell_type": "code",
   "execution_count": 203,
   "id": "a56f3fad-c2ec-4028-b35a-f038f30fe9ff",
   "metadata": {},
   "outputs": [
    {
     "name": "stderr",
     "output_type": "stream",
     "text": [
      "Warning message:\n",
      "“Expected 76 pieces. Additional pieces discarded in 293 rows [1, 2, 3, 4, 5, 6, 7, 8, 9, 10, 11, 12, 13, 14, 15, 16, 17, 18, 19, 20, ...].”\n",
      "Warning message:\n",
      "“Expected 76 pieces. Missing pieces filled with `NA` in 1 rows [290].”\n"
     ]
    },
    {
     "data": {
      "text/html": [
       "<table class=\"dataframe\">\n",
       "<caption>A tibble: 1 × 76</caption>\n",
       "<thead>\n",
       "\t<tr><th scope=col>id</th><th scope=col>ccf</th><th scope=col>age</th><th scope=col>sex</th><th scope=col>painloc</th><th scope=col>painexer</th><th scope=col>relrest</th><th scope=col>pncaden</th><th scope=col>cp</th><th scope=col>trestbps</th><th scope=col>⋯</th><th scope=col>rcaprox</th><th scope=col>rcadist</th><th scope=col>lvx1</th><th scope=col>lvx2</th><th scope=col>lvx3</th><th scope=col>lvx4</th><th scope=col>lvf</th><th scope=col>cathef</th><th scope=col>junk</th><th scope=col>name</th></tr>\n",
       "\t<tr><th scope=col>&lt;chr&gt;</th><th scope=col>&lt;chr&gt;</th><th scope=col>&lt;chr&gt;</th><th scope=col>&lt;chr&gt;</th><th scope=col>&lt;chr&gt;</th><th scope=col>&lt;chr&gt;</th><th scope=col>&lt;chr&gt;</th><th scope=col>&lt;chr&gt;</th><th scope=col>&lt;chr&gt;</th><th scope=col>&lt;chr&gt;</th><th scope=col>⋯</th><th scope=col>&lt;chr&gt;</th><th scope=col>&lt;chr&gt;</th><th scope=col>&lt;chr&gt;</th><th scope=col>&lt;chr&gt;</th><th scope=col>&lt;chr&gt;</th><th scope=col>&lt;chr&gt;</th><th scope=col>&lt;chr&gt;</th><th scope=col>&lt;chr&gt;</th><th scope=col>&lt;chr&gt;</th><th scope=col>&lt;chr&gt;</th></tr>\n",
       "</thead>\n",
       "<tbody>\n",
       "\t<tr><td>1254</td><td>0</td><td>40</td><td>1</td><td>1</td><td>0</td><td>0</td><td>-9</td><td>2</td><td>140</td><td>⋯</td><td>-9</td><td>-9</td><td>1</td><td>1</td><td>1</td><td>1</td><td>1</td><td>-9.</td><td>-9.</td><td>name</td></tr>\n",
       "</tbody>\n",
       "</table>\n"
      ],
      "text/latex": [
       "A tibble: 1 × 76\n",
       "\\begin{tabular}{lllllllllllllllllllll}\n",
       " id & ccf & age & sex & painloc & painexer & relrest & pncaden & cp & trestbps & ⋯ & rcaprox & rcadist & lvx1 & lvx2 & lvx3 & lvx4 & lvf & cathef & junk & name\\\\\n",
       " <chr> & <chr> & <chr> & <chr> & <chr> & <chr> & <chr> & <chr> & <chr> & <chr> & ⋯ & <chr> & <chr> & <chr> & <chr> & <chr> & <chr> & <chr> & <chr> & <chr> & <chr>\\\\\n",
       "\\hline\n",
       "\t 1254 & 0 & 40 & 1 & 1 & 0 & 0 & -9 & 2 & 140 & ⋯ & -9 & -9 & 1 & 1 & 1 & 1 & 1 & -9. & -9. & name\\\\\n",
       "\\end{tabular}\n"
      ],
      "text/markdown": [
       "\n",
       "A tibble: 1 × 76\n",
       "\n",
       "| id &lt;chr&gt; | ccf &lt;chr&gt; | age &lt;chr&gt; | sex &lt;chr&gt; | painloc &lt;chr&gt; | painexer &lt;chr&gt; | relrest &lt;chr&gt; | pncaden &lt;chr&gt; | cp &lt;chr&gt; | trestbps &lt;chr&gt; | ⋯ ⋯ | rcaprox &lt;chr&gt; | rcadist &lt;chr&gt; | lvx1 &lt;chr&gt; | lvx2 &lt;chr&gt; | lvx3 &lt;chr&gt; | lvx4 &lt;chr&gt; | lvf &lt;chr&gt; | cathef &lt;chr&gt; | junk &lt;chr&gt; | name &lt;chr&gt; |\n",
       "|---|---|---|---|---|---|---|---|---|---|---|---|---|---|---|---|---|---|---|---|---|\n",
       "| 1254 | 0 | 40 | 1 | 1 | 0 | 0 | -9 | 2 | 140 | ⋯ | -9 | -9 | 1 | 1 | 1 | 1 | 1 | -9. | -9. | name |\n",
       "\n"
      ],
      "text/plain": [
       "  id   ccf age sex painloc painexer relrest pncaden cp trestbps ⋯ rcaprox\n",
       "1 1254 0   40  1   1       0        0       -9      2  140      ⋯ -9     \n",
       "  rcadist lvx1 lvx2 lvx3 lvx4 lvf cathef junk name\n",
       "1 -9      1    1    1    1    1   -9.    -9.  name"
      ]
     },
     "metadata": {},
     "output_type": "display_data"
    },
    {
     "data": {
      "text/html": [
       "<table class=\"dataframe\">\n",
       "<caption>A tibble: 5 × 8</caption>\n",
       "<thead>\n",
       "\t<tr><th scope=col>age</th><th scope=col>sex</th><th scope=col>chol</th><th scope=col>cigs</th><th scope=col>years</th><th scope=col>thalach</th><th scope=col>thalrest</th><th scope=col>trestbpd</th></tr>\n",
       "\t<tr><th scope=col>&lt;dbl&gt;</th><th scope=col>&lt;fct&gt;</th><th scope=col>&lt;dbl&gt;</th><th scope=col>&lt;dbl&gt;</th><th scope=col>&lt;dbl&gt;</th><th scope=col>&lt;dbl&gt;</th><th scope=col>&lt;dbl&gt;</th><th scope=col>&lt;dbl&gt;</th></tr>\n",
       "</thead>\n",
       "<tbody>\n",
       "\t<tr><td>40</td><td>1</td><td>289</td><td>-9</td><td>-9</td><td>172</td><td> 86</td><td>86</td></tr>\n",
       "\t<tr><td>49</td><td>0</td><td>180</td><td>-9</td><td>-9</td><td>156</td><td>100</td><td>90</td></tr>\n",
       "\t<tr><td>37</td><td>1</td><td>283</td><td>-9</td><td>-9</td><td> 98</td><td> 58</td><td>80</td></tr>\n",
       "\t<tr><td>48</td><td>0</td><td>214</td><td>-9</td><td>-9</td><td>108</td><td> 54</td><td>86</td></tr>\n",
       "\t<tr><td>54</td><td>1</td><td> -9</td><td>-9</td><td>-9</td><td>122</td><td> 74</td><td>90</td></tr>\n",
       "</tbody>\n",
       "</table>\n"
      ],
      "text/latex": [
       "A tibble: 5 × 8\n",
       "\\begin{tabular}{llllllll}\n",
       " age & sex & chol & cigs & years & thalach & thalrest & trestbpd\\\\\n",
       " <dbl> & <fct> & <dbl> & <dbl> & <dbl> & <dbl> & <dbl> & <dbl>\\\\\n",
       "\\hline\n",
       "\t 40 & 1 & 289 & -9 & -9 & 172 &  86 & 86\\\\\n",
       "\t 49 & 0 & 180 & -9 & -9 & 156 & 100 & 90\\\\\n",
       "\t 37 & 1 & 283 & -9 & -9 &  98 &  58 & 80\\\\\n",
       "\t 48 & 0 & 214 & -9 & -9 & 108 &  54 & 86\\\\\n",
       "\t 54 & 1 &  -9 & -9 & -9 & 122 &  74 & 90\\\\\n",
       "\\end{tabular}\n"
      ],
      "text/markdown": [
       "\n",
       "A tibble: 5 × 8\n",
       "\n",
       "| age &lt;dbl&gt; | sex &lt;fct&gt; | chol &lt;dbl&gt; | cigs &lt;dbl&gt; | years &lt;dbl&gt; | thalach &lt;dbl&gt; | thalrest &lt;dbl&gt; | trestbpd &lt;dbl&gt; |\n",
       "|---|---|---|---|---|---|---|---|\n",
       "| 40 | 1 | 289 | -9 | -9 | 172 |  86 | 86 |\n",
       "| 49 | 0 | 180 | -9 | -9 | 156 | 100 | 90 |\n",
       "| 37 | 1 | 283 | -9 | -9 |  98 |  58 | 80 |\n",
       "| 48 | 0 | 214 | -9 | -9 | 108 |  54 | 86 |\n",
       "| 54 | 1 |  -9 | -9 | -9 | 122 |  74 | 90 |\n",
       "\n"
      ],
      "text/plain": [
       "  age sex chol cigs years thalach thalrest trestbpd\n",
       "1 40  1   289  -9   -9    172      86      86      \n",
       "2 49  0   180  -9   -9    156     100      90      \n",
       "3 37  1   283  -9   -9     98      58      80      \n",
       "4 48  0   214  -9   -9    108      54      86      \n",
       "5 54  1    -9  -9   -9    122      74      90      "
      ]
     },
     "metadata": {},
     "output_type": "display_data"
    }
   ],
   "source": [
    "clean_data <- separated_with_commas |>\n",
    "    mutate(num = ceiling(row_number() / 10)) |>\n",
    "    group_by(num) |>\n",
    "    summarise(combined_col = gsub(',,', ',', gsub('NA', '', paste0(combined_col, collapse = \",\")))) |>\n",
    "    ungroup() |>\n",
    "    separate(col = combined_col, into = c('id', 'ccf', 'age', 'sex', 'painloc', 'painexer', 'relrest', 'pncaden', 'cp', 'trestbps', 'htn', 'chol', 'smoke', 'cigs', 'years', 'fbs', 'dm', 'famhist', 'restecg', 'ekgmo', 'ekgday', 'ekgyr', 'dig', 'prop', 'nitr', 'pro', 'diuretic', 'proto', 'thaldur', 'thaltime', 'met', 'thalach', 'thalrest', 'tpeakbps', 'tpeakbpd', 'dummy', 'trestbpd', 'exang', 'xhypo', 'oldpeak', 'slope', 'rldv5', 'rldv5e', 'ca', 'restckm', 'exerckm', 'restef', 'restwm', 'exeref', 'exerwm', 'thal', 'thalsev', 'thalpul', 'earlobe', 'cmo', 'cday', 'cyr', 'num', 'lmt', 'ladprox', 'laddist', 'diag', 'cxmain', 'ramus', 'om1', 'om2', 'rcaprox', 'rcadist', 'lvx1', 'lvx2', 'lvx3', 'lvx4', 'lvf', 'cathef', 'junk', 'name'), sep = \",\")\n",
    "head(clean_data, 1)\n",
    "processed_heart_data <- clean_data |>\n",
    "    select(age, sex, chol, cigs, years, thalach, thalrest, trestbpd) |>\n",
    "    mutate(age = as.numeric(age), sex = as_factor(sex), chol = as.numeric(chol), cigs = as.numeric(cigs), \n",
    "          years = as.numeric(years), thalach = as.numeric(thalach), thalrest = as.numeric(thalrest), trestbpd = as.numeric(trestbpd))\n",
    "head(processed_heart_data, 5)"
   ]
  },
  {
   "cell_type": "markdown",
   "id": "b0d82fed-bf5b-48c4-8a1c-a0ed4fd5d614",
   "metadata": {},
   "source": [
    "As seen in the first five rows of the data, we could see that the dataset is already in the tidy format. This can be seen with how every column is a variable, every row is a single observation and every cell only has one value. Although, we still need modify the dataset slightly to suit the classification problem. More specifically, since we are trying to predict the type of chest pain, it needs to be represented as a category/factor instead of a number. Similarly, other categorical attributes include: sex, fasting blood sugar larger than $120$ mg/dl, resting electrocardiographic results, exercise induced agina, number of major vessels, and thalassemia.\n",
    "# age, sex, chol, smoking (cigarettes per day or number of years as smoker), max heart rate, rest heart rate, resting blood pressure"
   ]
  },
  {
   "cell_type": "code",
   "execution_count": 1,
   "id": "02f707d7-19b7-4a3d-8c1d-970f5e05376e",
   "metadata": {},
   "outputs": [
    {
     "ename": "ERROR",
     "evalue": "Error in mutate(heart_data, sex = as_factor(sex), cp = as_factor(cp), : could not find function \"mutate\"\n",
     "output_type": "error",
     "traceback": [
      "Error in mutate(heart_data, sex = as_factor(sex), cp = as_factor(cp), : could not find function \"mutate\"\nTraceback:\n"
     ]
    }
   ],
   "source": [
    "# Convert some attributes to factors\n",
    "heart_data <- heart_data |>\n",
    "    mutate(sex = as_factor(sex), cp = as_factor(cp), fbs = as_factor(fbs), restecg = as_factor(restecg),\n",
    "           exang = as_factor(exang), ca = as_factor(ca), thal = as_factor(thal))\n",
    "head(heart_data, 5)"
   ]
  },
  {
   "cell_type": "markdown",
   "id": "8554a5f6-8f13-4799-a61c-1cef553117fb",
   "metadata": {},
   "source": [
    "Before processing the data any further, we must extract the training data to prevent the test data from affecting any aspect of our data analysis process. As there are 1025 rows (or 1025 different observations), an appropriate proportion between training and testing dataset is $80\\%$. Furthermore, to prevent any bias, the splitting will be random while preserving the good proportion of different chest pain type in both data subset. Note that for reproducibility, random seed of $1337$ will be used."
   ]
  },
  {
   "cell_type": "code",
   "execution_count": 23,
   "id": "a10cd440-2bdc-4a57-87ca-4739352b45db",
   "metadata": {},
   "outputs": [],
   "source": [
    "# Splitting the data into training and testing\n",
    "set.seed(1337)\n",
    "heart_split <- initial_split(heart_data, prop = 0.8, strata = cp)\n",
    "heart_train <- training(heart_split)\n",
    "heart_test <- testing (heart_split)"
   ]
  },
  {
   "cell_type": "code",
   "execution_count": 4,
   "id": "e09def32-b8c8-45b3-8348-7a48dc9994ab",
   "metadata": {},
   "outputs": [],
   "source": [
    "# nrow(heart_train)\n",
    "# heart_train_missing <- heart_train |>\n",
    "#     mutate(cp = mean(cp))\n",
    "\n",
    "# heart_train_missing"
   ]
  },
  {
   "cell_type": "code",
   "execution_count": null,
   "id": "97aa62f7-9974-4451-9058-e9527bc1bf58",
   "metadata": {},
   "outputs": [],
   "source": []
  }
 ],
 "metadata": {
  "kernelspec": {
   "display_name": "R",
   "language": "R",
   "name": "ir"
  },
  "language_info": {
   "codemirror_mode": "r",
   "file_extension": ".r",
   "mimetype": "text/x-r-source",
   "name": "R",
   "pygments_lexer": "r",
   "version": "4.1.3"
  }
 },
 "nbformat": 4,
 "nbformat_minor": 5
}
