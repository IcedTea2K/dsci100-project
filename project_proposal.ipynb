{
 "cells": [
  {
   "cell_type": "markdown",
   "id": "68f97a12-4b42-4042-8472-449573116acc",
   "metadata": {},
   "source": [
    "# Group Project\n",
    "### Members:\n",
    "- Minh Au\n",
    "- Andrew Carriere\n",
    "- Veronika Bumbulovic\n",
    "- Kevin Yoon Jeong"
   ]
  },
  {
   "cell_type": "markdown",
   "id": "5ce951ad-9511-4679-abf4-8abada1432b5",
   "metadata": {},
   "source": [
    "## Preliminary exploratory data analysis\n",
    "The following two cells will load necessary libraries and read in the data which is nescessary as the first step for the analysis."
   ]
  },
  {
   "cell_type": "code",
   "execution_count": 101,
   "id": "f6e0041f-1732-4116-85d7-46ae760287fa",
   "metadata": {},
   "outputs": [],
   "source": [
    "library(tidyverse)\n",
    "library(repr)\n",
    "library(tidymodels)"
   ]
  },
  {
   "cell_type": "code",
   "execution_count": 299,
   "id": "f0e546dc-03c4-45a1-87a9-79e6aab74594",
   "metadata": {},
   "outputs": [
    {
     "name": "stderr",
     "output_type": "stream",
     "text": [
      "\u001b[1mRows: \u001b[22m\u001b[34m2940\u001b[39m \u001b[1mColumns: \u001b[22m\u001b[34m1\u001b[39m\n",
      "\u001b[36m──\u001b[39m \u001b[1mColumn specification\u001b[22m \u001b[36m────────────────────────────────────────────────────────\u001b[39m\n",
      "\u001b[1mDelimiter:\u001b[22m \",\"\n",
      "\u001b[31mchr\u001b[39m (1): X1\n",
      "\n",
      "\u001b[36mℹ\u001b[39m Use `spec()` to retrieve the full column specification for this data.\n",
      "\u001b[36mℹ\u001b[39m Specify the column types or set `show_col_types = FALSE` to quiet this message.\n",
      "\u001b[1mRows: \u001b[22m\u001b[34m2000\u001b[39m \u001b[1mColumns: \u001b[22m\u001b[34m1\u001b[39m\n",
      "\u001b[36m──\u001b[39m \u001b[1mColumn specification\u001b[22m \u001b[36m────────────────────────────────────────────────────────\u001b[39m\n",
      "\u001b[1mDelimiter:\u001b[22m \",\"\n",
      "\u001b[31mchr\u001b[39m (1): X1\n",
      "\n",
      "\u001b[36mℹ\u001b[39m Use `spec()` to retrieve the full column specification for this data.\n",
      "\u001b[36mℹ\u001b[39m Specify the column types or set `show_col_types = FALSE` to quiet this message.\n",
      "\u001b[1mRows: \u001b[22m\u001b[34m1230\u001b[39m \u001b[1mColumns: \u001b[22m\u001b[34m1\u001b[39m\n",
      "\u001b[36m──\u001b[39m \u001b[1mColumn specification\u001b[22m \u001b[36m────────────────────────────────────────────────────────\u001b[39m\n",
      "\u001b[1mDelimiter:\u001b[22m \",\"\n",
      "\u001b[31mchr\u001b[39m (1): X1\n",
      "\n",
      "\u001b[36mℹ\u001b[39m Use `spec()` to retrieve the full column specification for this data.\n",
      "\u001b[36mℹ\u001b[39m Specify the column types or set `show_col_types = FALSE` to quiet this message.\n"
     ]
    },
    {
     "data": {
      "text/html": [
       "<table class=\"dataframe\">\n",
       "<caption>A tibble: 10 × 1</caption>\n",
       "<thead>\n",
       "\t<tr><th scope=col>X1</th></tr>\n",
       "\t<tr><th scope=col>&lt;chr&gt;</th></tr>\n",
       "</thead>\n",
       "<tbody>\n",
       "\t<tr><td>1254 0 40 1 1 0 0        </td></tr>\n",
       "\t<tr><td>-9 2 140 0 289 -9 -9 -9  </td></tr>\n",
       "\t<tr><td>0 -9 -9 0 12 16 84 0     </td></tr>\n",
       "\t<tr><td>0 0 0 0 150 18 -9 7      </td></tr>\n",
       "\t<tr><td>172 86 200 110 140 86 0 0</td></tr>\n",
       "\t<tr><td>0 -9 26 20 -9 -9 -9 -9   </td></tr>\n",
       "\t<tr><td>-9 -9 -9 -9 -9 -9 -9 12  </td></tr>\n",
       "\t<tr><td>20 84 0 -9 -9 -9 -9 -9   </td></tr>\n",
       "\t<tr><td>-9 -9 -9 -9 -9 1 1 1     </td></tr>\n",
       "\t<tr><td>1 1 -9. -9. name         </td></tr>\n",
       "</tbody>\n",
       "</table>\n"
      ],
      "text/latex": [
       "A tibble: 10 × 1\n",
       "\\begin{tabular}{l}\n",
       " X1\\\\\n",
       " <chr>\\\\\n",
       "\\hline\n",
       "\t 1254 0 40 1 1 0 0        \\\\\n",
       "\t -9 2 140 0 289 -9 -9 -9  \\\\\n",
       "\t 0 -9 -9 0 12 16 84 0     \\\\\n",
       "\t 0 0 0 0 150 18 -9 7      \\\\\n",
       "\t 172 86 200 110 140 86 0 0\\\\\n",
       "\t 0 -9 26 20 -9 -9 -9 -9   \\\\\n",
       "\t -9 -9 -9 -9 -9 -9 -9 12  \\\\\n",
       "\t 20 84 0 -9 -9 -9 -9 -9   \\\\\n",
       "\t -9 -9 -9 -9 -9 1 1 1     \\\\\n",
       "\t 1 1 -9. -9. name         \\\\\n",
       "\\end{tabular}\n"
      ],
      "text/markdown": [
       "\n",
       "A tibble: 10 × 1\n",
       "\n",
       "| X1 &lt;chr&gt; |\n",
       "|---|\n",
       "| 1254 0 40 1 1 0 0         |\n",
       "| -9 2 140 0 289 -9 -9 -9   |\n",
       "| 0 -9 -9 0 12 16 84 0      |\n",
       "| 0 0 0 0 150 18 -9 7       |\n",
       "| 172 86 200 110 140 86 0 0 |\n",
       "| 0 -9 26 20 -9 -9 -9 -9    |\n",
       "| -9 -9 -9 -9 -9 -9 -9 12   |\n",
       "| 20 84 0 -9 -9 -9 -9 -9    |\n",
       "| -9 -9 -9 -9 -9 1 1 1      |\n",
       "| 1 1 -9. -9. name          |\n",
       "\n"
      ],
      "text/plain": [
       "   X1                       \n",
       "1  1254 0 40 1 1 0 0        \n",
       "2  -9 2 140 0 289 -9 -9 -9  \n",
       "3  0 -9 -9 0 12 16 84 0     \n",
       "4  0 0 0 0 150 18 -9 7      \n",
       "5  172 86 200 110 140 86 0 0\n",
       "6  0 -9 26 20 -9 -9 -9 -9   \n",
       "7  -9 -9 -9 -9 -9 -9 -9 12  \n",
       "8  20 84 0 -9 -9 -9 -9 -9   \n",
       "9  -9 -9 -9 -9 -9 1 1 1     \n",
       "10 1 1 -9. -9. name         "
      ]
     },
     "metadata": {},
     "output_type": "display_data"
    }
   ],
   "source": [
    "# Reading the data\n",
    "hungarian_heart_data <- read_csv(\"data/hungarian-heart.csv\", col_names = FALSE)\n",
    "longbeach_heart_data <- read_csv(\"data/long-beach-va-heart.csv\", col_names = FALSE)\n",
    "switzerland_heart_data <- read_csv(\"data/switzerland-heart.csv\", col_names = FALSE)\n",
    "# Combine different data sets into one\n",
    "heart_data <- rbind(hungarian_heart_data, longbeach_heart_data) |>\n",
    "    rbind(switzerland_heart_data)\n",
    "head(heart_data, 10)"
   ]
  },
  {
   "cell_type": "markdown",
   "id": "f3d56b1a-28ea-48ba-91b5-8f5bb7efb134",
   "metadata": {},
   "source": [
    "As seen in the small subset above, the data is not in tidy format and thus, is not ready for analysis. From the documentations, we know that there are 76 attributes, but currently, they are all grouped in one column. Furthermore, the 76 attributes are spread across 10 different lines with different number of attributes on each line (some with 7 while the others only have 8). As such, the data wrangling strategy is as follows:\n",
    "1. Combine the 76 attributes into one row. They need to be separated by a specific delimiter such as \",\".\n",
    "2. Each rows are separated out into multiple columns.\n",
    "3. Load the names of the attributes \n",
    "3. Select the following factors as decribed in the method section and convert them into correct type\n",
    "    - age - age in years\n",
    "    - sex - 0 for female, 1 for male\n",
    "    - chol - serum cholestoral in mg/dl \n",
    "    - cigs - cigarettes per day\n",
    "    - years - number of years as a smoker\n",
    "    - thalach - maximum heart rate achieved \n",
    "    - thalrest - resting heart rate\n",
    "    - trestbpd - resting blood pressure\n",
    "    - num - diagnosis of heart disease (0 for absence, 1 - 4 for present)"
   ]
  },
  {
   "cell_type": "code",
   "execution_count": 300,
   "id": "d5e59bf0-fad5-4726-945b-7b660c79d1a1",
   "metadata": {},
   "outputs": [
    {
     "name": "stderr",
     "output_type": "stream",
     "text": [
      "Warning message:\n",
      "“Expected 8 pieces. Missing pieces filled with `NA` in 1235 rows [1, 10, 11, 20, 21, 30, 31, 40, 41, 50, 51, 60, 61, 70, 71, 80, 81, 90, 91, 100, ...].”\n"
     ]
    }
   ],
   "source": [
    "# Separate the data with commas\n",
    "separated_with_commas <- heart_data |>\n",
    "    separate(col = X1, into = c(\"X1\", \"X2\", \"X3\", \"X4\", \"X6\", \"X7\", \"X8\", \"X9\"), sep = \" \") |>\n",
    "    rowwise() |>\n",
    "    mutate(combined_col = paste0(str_replace_na(c_across(X1:X9), replacement = \"\"), collapse = \",\")) |>\n",
    "    ungroup() |>\n",
    "    select(combined_col)"
   ]
  },
  {
   "cell_type": "code",
   "execution_count": 328,
   "id": "a56f3fad-c2ec-4028-b35a-f038f30fe9ff",
   "metadata": {},
   "outputs": [
    {
     "name": "stderr",
     "output_type": "stream",
     "text": [
      "Warning message:\n",
      "“Expected 76 pieces. Additional pieces discarded in 616 rows [1, 2, 3, 4, 5, 6, 7, 8, 9, 10, 11, 12, 13, 14, 15, 16, 17, 18, 19, 20, ...].”\n",
      "Warning message:\n",
      "“Expected 76 pieces. Missing pieces filled with `NA` in 1 rows [290].”\n"
     ]
    },
    {
     "data": {
      "text/html": [
       "<table class=\"dataframe\">\n",
       "<caption>A tibble: 1 × 76</caption>\n",
       "<thead>\n",
       "\t<tr><th scope=col>id</th><th scope=col>ccf</th><th scope=col>age</th><th scope=col>sex</th><th scope=col>painloc</th><th scope=col>painexer</th><th scope=col>relrest</th><th scope=col>pncaden</th><th scope=col>cp</th><th scope=col>trestbps</th><th scope=col>⋯</th><th scope=col>rcaprox</th><th scope=col>rcadist</th><th scope=col>lvx1</th><th scope=col>lvx2</th><th scope=col>lvx3</th><th scope=col>lvx4</th><th scope=col>lvf</th><th scope=col>cathef</th><th scope=col>junk</th><th scope=col>name</th></tr>\n",
       "\t<tr><th scope=col>&lt;chr&gt;</th><th scope=col>&lt;chr&gt;</th><th scope=col>&lt;chr&gt;</th><th scope=col>&lt;chr&gt;</th><th scope=col>&lt;chr&gt;</th><th scope=col>&lt;chr&gt;</th><th scope=col>&lt;chr&gt;</th><th scope=col>&lt;chr&gt;</th><th scope=col>&lt;chr&gt;</th><th scope=col>&lt;chr&gt;</th><th scope=col>⋯</th><th scope=col>&lt;chr&gt;</th><th scope=col>&lt;chr&gt;</th><th scope=col>&lt;chr&gt;</th><th scope=col>&lt;chr&gt;</th><th scope=col>&lt;chr&gt;</th><th scope=col>&lt;chr&gt;</th><th scope=col>&lt;chr&gt;</th><th scope=col>&lt;chr&gt;</th><th scope=col>&lt;chr&gt;</th><th scope=col>&lt;chr&gt;</th></tr>\n",
       "</thead>\n",
       "<tbody>\n",
       "\t<tr><td>1254</td><td>0</td><td>40</td><td>1</td><td>1</td><td>0</td><td>0</td><td>-9</td><td>2</td><td>140</td><td>⋯</td><td>-9</td><td>-9</td><td>1</td><td>1</td><td>1</td><td>1</td><td>1</td><td>-9.</td><td>-9.</td><td>name</td></tr>\n",
       "</tbody>\n",
       "</table>\n"
      ],
      "text/latex": [
       "A tibble: 1 × 76\n",
       "\\begin{tabular}{lllllllllllllllllllll}\n",
       " id & ccf & age & sex & painloc & painexer & relrest & pncaden & cp & trestbps & ⋯ & rcaprox & rcadist & lvx1 & lvx2 & lvx3 & lvx4 & lvf & cathef & junk & name\\\\\n",
       " <chr> & <chr> & <chr> & <chr> & <chr> & <chr> & <chr> & <chr> & <chr> & <chr> & ⋯ & <chr> & <chr> & <chr> & <chr> & <chr> & <chr> & <chr> & <chr> & <chr> & <chr>\\\\\n",
       "\\hline\n",
       "\t 1254 & 0 & 40 & 1 & 1 & 0 & 0 & -9 & 2 & 140 & ⋯ & -9 & -9 & 1 & 1 & 1 & 1 & 1 & -9. & -9. & name\\\\\n",
       "\\end{tabular}\n"
      ],
      "text/markdown": [
       "\n",
       "A tibble: 1 × 76\n",
       "\n",
       "| id &lt;chr&gt; | ccf &lt;chr&gt; | age &lt;chr&gt; | sex &lt;chr&gt; | painloc &lt;chr&gt; | painexer &lt;chr&gt; | relrest &lt;chr&gt; | pncaden &lt;chr&gt; | cp &lt;chr&gt; | trestbps &lt;chr&gt; | ⋯ ⋯ | rcaprox &lt;chr&gt; | rcadist &lt;chr&gt; | lvx1 &lt;chr&gt; | lvx2 &lt;chr&gt; | lvx3 &lt;chr&gt; | lvx4 &lt;chr&gt; | lvf &lt;chr&gt; | cathef &lt;chr&gt; | junk &lt;chr&gt; | name &lt;chr&gt; |\n",
       "|---|---|---|---|---|---|---|---|---|---|---|---|---|---|---|---|---|---|---|---|---|\n",
       "| 1254 | 0 | 40 | 1 | 1 | 0 | 0 | -9 | 2 | 140 | ⋯ | -9 | -9 | 1 | 1 | 1 | 1 | 1 | -9. | -9. | name |\n",
       "\n"
      ],
      "text/plain": [
       "  id   ccf age sex painloc painexer relrest pncaden cp trestbps ⋯ rcaprox\n",
       "1 1254 0   40  1   1       0        0       -9      2  140      ⋯ -9     \n",
       "  rcadist lvx1 lvx2 lvx3 lvx4 lvf cathef junk name\n",
       "1 -9      1    1    1    1    1   -9.    -9.  name"
      ]
     },
     "metadata": {},
     "output_type": "display_data"
    },
    {
     "data": {
      "text/html": [
       "<table class=\"dataframe\">\n",
       "<caption>A tibble: 5 × 9</caption>\n",
       "<thead>\n",
       "\t<tr><th scope=col>age</th><th scope=col>sex</th><th scope=col>chol</th><th scope=col>cigs</th><th scope=col>years</th><th scope=col>thalach</th><th scope=col>thalrest</th><th scope=col>trestbpd</th><th scope=col>num</th></tr>\n",
       "\t<tr><th scope=col>&lt;dbl&gt;</th><th scope=col>&lt;fct&gt;</th><th scope=col>&lt;dbl&gt;</th><th scope=col>&lt;dbl&gt;</th><th scope=col>&lt;dbl&gt;</th><th scope=col>&lt;dbl&gt;</th><th scope=col>&lt;dbl&gt;</th><th scope=col>&lt;dbl&gt;</th><th scope=col>&lt;dbl&gt;</th></tr>\n",
       "</thead>\n",
       "<tbody>\n",
       "\t<tr><td>40</td><td>1</td><td>289</td><td>-9</td><td>-9</td><td>172</td><td> 86</td><td>86</td><td>0</td></tr>\n",
       "\t<tr><td>49</td><td>0</td><td>180</td><td>-9</td><td>-9</td><td>156</td><td>100</td><td>90</td><td>1</td></tr>\n",
       "\t<tr><td>37</td><td>1</td><td>283</td><td>-9</td><td>-9</td><td> 98</td><td> 58</td><td>80</td><td>0</td></tr>\n",
       "\t<tr><td>48</td><td>0</td><td>214</td><td>-9</td><td>-9</td><td>108</td><td> 54</td><td>86</td><td>3</td></tr>\n",
       "\t<tr><td>54</td><td>1</td><td> -9</td><td>-9</td><td>-9</td><td>122</td><td> 74</td><td>90</td><td>0</td></tr>\n",
       "</tbody>\n",
       "</table>\n"
      ],
      "text/latex": [
       "A tibble: 5 × 9\n",
       "\\begin{tabular}{lllllllll}\n",
       " age & sex & chol & cigs & years & thalach & thalrest & trestbpd & num\\\\\n",
       " <dbl> & <fct> & <dbl> & <dbl> & <dbl> & <dbl> & <dbl> & <dbl> & <dbl>\\\\\n",
       "\\hline\n",
       "\t 40 & 1 & 289 & -9 & -9 & 172 &  86 & 86 & 0\\\\\n",
       "\t 49 & 0 & 180 & -9 & -9 & 156 & 100 & 90 & 1\\\\\n",
       "\t 37 & 1 & 283 & -9 & -9 &  98 &  58 & 80 & 0\\\\\n",
       "\t 48 & 0 & 214 & -9 & -9 & 108 &  54 & 86 & 3\\\\\n",
       "\t 54 & 1 &  -9 & -9 & -9 & 122 &  74 & 90 & 0\\\\\n",
       "\\end{tabular}\n"
      ],
      "text/markdown": [
       "\n",
       "A tibble: 5 × 9\n",
       "\n",
       "| age &lt;dbl&gt; | sex &lt;fct&gt; | chol &lt;dbl&gt; | cigs &lt;dbl&gt; | years &lt;dbl&gt; | thalach &lt;dbl&gt; | thalrest &lt;dbl&gt; | trestbpd &lt;dbl&gt; | num &lt;dbl&gt; |\n",
       "|---|---|---|---|---|---|---|---|---|\n",
       "| 40 | 1 | 289 | -9 | -9 | 172 |  86 | 86 | 0 |\n",
       "| 49 | 0 | 180 | -9 | -9 | 156 | 100 | 90 | 1 |\n",
       "| 37 | 1 | 283 | -9 | -9 |  98 |  58 | 80 | 0 |\n",
       "| 48 | 0 | 214 | -9 | -9 | 108 |  54 | 86 | 3 |\n",
       "| 54 | 1 |  -9 | -9 | -9 | 122 |  74 | 90 | 0 |\n",
       "\n"
      ],
      "text/plain": [
       "  age sex chol cigs years thalach thalrest trestbpd num\n",
       "1 40  1   289  -9   -9    172      86      86       0  \n",
       "2 49  0   180  -9   -9    156     100      90       1  \n",
       "3 37  1   283  -9   -9     98      58      80       0  \n",
       "4 48  0   214  -9   -9    108      54      86       3  \n",
       "5 54  1    -9  -9   -9    122      74      90       0  "
      ]
     },
     "metadata": {},
     "output_type": "display_data"
    }
   ],
   "source": [
    "# Combine rows and split columns before assigning names\n",
    "clean_data <- separated_with_commas |>\n",
    "    mutate(num = ceiling(row_number() / 10)) |>\n",
    "    group_by(num) |>\n",
    "    summarise(combined_col = gsub(',,', ',', gsub('NA', '', paste0(combined_col, collapse = \",\")))) |>\n",
    "    ungroup() |>\n",
    "    separate(col = combined_col, into = c('id', 'ccf', 'age', 'sex', 'painloc', 'painexer', 'relrest', 'pncaden', 'cp', 'trestbps', 'htn', 'chol', 'smoke', 'cigs', 'years', 'fbs', 'dm', 'famhist', 'restecg', 'ekgmo', 'ekgday', 'ekgyr', 'dig', 'prop', 'nitr', 'pro', 'diuretic', 'proto', 'thaldur', 'thaltime', 'met', 'thalach', 'thalrest', 'tpeakbps', 'tpeakbpd', 'dummy', 'trestbpd', 'exang', 'xhypo', 'oldpeak', 'slope', 'rldv5', 'rldv5e', 'ca', 'restckm', 'exerckm', 'restef', 'restwm', 'exeref', 'exerwm', 'thal', 'thalsev', 'thalpul', 'earlobe', 'cmo', 'cday', 'cyr', 'num', 'lmt', 'ladprox', 'laddist', 'diag', 'cxmain', 'ramus', 'om1', 'om2', 'rcaprox', 'rcadist', 'lvx1', 'lvx2', 'lvx3', 'lvx4', 'lvf', 'cathef', 'junk', 'name'), sep = \",\")\n",
    "head(clean_data, 1)\n",
    "# Processing the data\n",
    "processed_heart_data <- clean_data |>\n",
    "    select(age, sex, chol, cigs, years, thalach, thalrest, trestbpd, num) |>\n",
    "    mutate(age = as.numeric(age), sex = as_factor(sex), chol = as.numeric(chol), cigs = as.numeric(cigs), \n",
    "          years = as.numeric(years), thalach = as.numeric(thalach), thalrest = as.numeric(thalrest), \n",
    "           trestbpd = as.numeric(trestbpd), num = as.numeric(num))\n",
    "head(processed_heart_data, 5)"
   ]
  },
  {
   "cell_type": "markdown",
   "id": "b0d82fed-bf5b-48c4-8a1c-a0ed4fd5d614",
   "metadata": {},
   "source": [
    "According to the documentation of the dataset, fields with -9 value is simply missing data. And, as seen in the first five rows of the data, `cigs` and `years` contain only -9 as values. In fact, this persists for most of the dataset. If we remove all the rows with that have -9 for those two factors, the dataset would be reduced significantly. As such, we cannot use cigarettes as predictor for the model since we don't have enough information on them. <br>\n",
    "Also, note that the diagnosis for a heart disease is either present or absent. So it's a binary category and it would be better to be represented as 0 and 1. Therefore, let 0 and 1 be the absence and the presence of the heart disease respesctively. Also, let the column name be **diagnosis** for more clarity. <br>\n",
    "We should also replace the fields with -9 values with NA to be consistent with R's convention."
   ]
  },
  {
   "cell_type": "code",
   "execution_count": 329,
   "id": "02f707d7-19b7-4a3d-8c1d-970f5e05376e",
   "metadata": {},
   "outputs": [
    {
     "data": {
      "text/html": [
       "<table class=\"dataframe\">\n",
       "<caption>A tibble: 5 × 7</caption>\n",
       "<thead>\n",
       "\t<tr><th scope=col>age</th><th scope=col>sex</th><th scope=col>chol</th><th scope=col>thalach</th><th scope=col>thalrest</th><th scope=col>trestbpd</th><th scope=col>diagnosis</th></tr>\n",
       "\t<tr><th scope=col>&lt;dbl&gt;</th><th scope=col>&lt;fct&gt;</th><th scope=col>&lt;dbl&gt;</th><th scope=col>&lt;dbl&gt;</th><th scope=col>&lt;dbl&gt;</th><th scope=col>&lt;dbl&gt;</th><th scope=col>&lt;fct&gt;</th></tr>\n",
       "</thead>\n",
       "<tbody>\n",
       "\t<tr><td>40</td><td>1</td><td>289</td><td>172</td><td> 86</td><td>86</td><td>0</td></tr>\n",
       "\t<tr><td>49</td><td>0</td><td>180</td><td>156</td><td>100</td><td>90</td><td>1</td></tr>\n",
       "\t<tr><td>37</td><td>1</td><td>283</td><td> 98</td><td> 58</td><td>80</td><td>0</td></tr>\n",
       "\t<tr><td>48</td><td>0</td><td>214</td><td>108</td><td> 54</td><td>86</td><td>1</td></tr>\n",
       "\t<tr><td>54</td><td>1</td><td> NA</td><td>122</td><td> 74</td><td>90</td><td>0</td></tr>\n",
       "</tbody>\n",
       "</table>\n"
      ],
      "text/latex": [
       "A tibble: 5 × 7\n",
       "\\begin{tabular}{lllllll}\n",
       " age & sex & chol & thalach & thalrest & trestbpd & diagnosis\\\\\n",
       " <dbl> & <fct> & <dbl> & <dbl> & <dbl> & <dbl> & <fct>\\\\\n",
       "\\hline\n",
       "\t 40 & 1 & 289 & 172 &  86 & 86 & 0\\\\\n",
       "\t 49 & 0 & 180 & 156 & 100 & 90 & 1\\\\\n",
       "\t 37 & 1 & 283 &  98 &  58 & 80 & 0\\\\\n",
       "\t 48 & 0 & 214 & 108 &  54 & 86 & 1\\\\\n",
       "\t 54 & 1 &  NA & 122 &  74 & 90 & 0\\\\\n",
       "\\end{tabular}\n"
      ],
      "text/markdown": [
       "\n",
       "A tibble: 5 × 7\n",
       "\n",
       "| age &lt;dbl&gt; | sex &lt;fct&gt; | chol &lt;dbl&gt; | thalach &lt;dbl&gt; | thalrest &lt;dbl&gt; | trestbpd &lt;dbl&gt; | diagnosis &lt;fct&gt; |\n",
       "|---|---|---|---|---|---|---|\n",
       "| 40 | 1 | 289 | 172 |  86 | 86 | 0 |\n",
       "| 49 | 0 | 180 | 156 | 100 | 90 | 1 |\n",
       "| 37 | 1 | 283 |  98 |  58 | 80 | 0 |\n",
       "| 48 | 0 | 214 | 108 |  54 | 86 | 1 |\n",
       "| 54 | 1 |  NA | 122 |  74 | 90 | 0 |\n",
       "\n"
      ],
      "text/plain": [
       "  age sex chol thalach thalrest trestbpd diagnosis\n",
       "1 40  1   289  172      86      86       0        \n",
       "2 49  0   180  156     100      90       1        \n",
       "3 37  1   283   98      58      80       0        \n",
       "4 48  0   214  108      54      86       1        \n",
       "5 54  1    NA  122      74      90       0        "
      ]
     },
     "metadata": {},
     "output_type": "display_data"
    }
   ],
   "source": [
    "# Final steps of wrangling the data\n",
    "final_heart_data <- processed_heart_data |>\n",
    "    mutate(diagnosis = 1 * (num >= 1)) |>\n",
    "    mutate(diagnosis = as.factor(diagnosis)) |>\n",
    "    select(-cigs, -years, -num)\n",
    "final_heart_data[final_heart_data == -9] <- NA\n",
    "head(final_heart_data, 5)"
   ]
  },
  {
   "cell_type": "markdown",
   "id": "8554a5f6-8f13-4799-a61c-1cef553117fb",
   "metadata": {},
   "source": [
    "As a result, the table above shows a subset of the wrangled data. Now, we can split the data into training and testing sets to begin the analysis. Since there are 617 rows of data, 80% of the dataset will give us approximately 500 observations which is suitable to train the model. Therefore, the proportion between training data and testing data will be 80%."
   ]
  },
  {
   "cell_type": "code",
   "execution_count": 317,
   "id": "a10cd440-2bdc-4a57-87ca-4739352b45db",
   "metadata": {},
   "outputs": [],
   "source": [
    "# Splitting the data into training and testing\n",
    "set.seed(1337) # Set seed for reproducility\n",
    "heart_split <- initial_split(final_heart_data, prop = 0.8, strata = diagnosis)\n",
    "heart_train <- training(heart_split)\n",
    "heart_test <- testing (heart_split)"
   ]
  },
  {
   "cell_type": "markdown",
   "id": "73302135-9af5-496f-9c6d-d0abd94cbaf4",
   "metadata": {},
   "source": [
    "Now, let's examine training set for more information about the data. One useful data is the number of observations with heart disease and that without."
   ]
  },
  {
   "cell_type": "code",
   "execution_count": 330,
   "id": "97aa62f7-9974-4451-9058-e9527bc1bf58",
   "metadata": {},
   "outputs": [
    {
     "data": {
      "text/html": [
       "<table class=\"dataframe\">\n",
       "<caption>A tibble: 2 × 2</caption>\n",
       "<thead>\n",
       "\t<tr><th scope=col>diagnosis</th><th scope=col>count</th></tr>\n",
       "\t<tr><th scope=col>&lt;fct&gt;</th><th scope=col>&lt;int&gt;</th></tr>\n",
       "</thead>\n",
       "<tbody>\n",
       "\t<tr><td>0</td><td>197</td></tr>\n",
       "\t<tr><td>1</td><td>296</td></tr>\n",
       "</tbody>\n",
       "</table>\n"
      ],
      "text/latex": [
       "A tibble: 2 × 2\n",
       "\\begin{tabular}{ll}\n",
       " diagnosis & count\\\\\n",
       " <fct> & <int>\\\\\n",
       "\\hline\n",
       "\t 0 & 197\\\\\n",
       "\t 1 & 296\\\\\n",
       "\\end{tabular}\n"
      ],
      "text/markdown": [
       "\n",
       "A tibble: 2 × 2\n",
       "\n",
       "| diagnosis &lt;fct&gt; | count &lt;int&gt; |\n",
       "|---|---|\n",
       "| 0 | 197 |\n",
       "| 1 | 296 |\n",
       "\n"
      ],
      "text/plain": [
       "  diagnosis count\n",
       "1 0         197  \n",
       "2 1         296  "
      ]
     },
     "metadata": {},
     "output_type": "display_data"
    }
   ],
   "source": [
    "# Summarize the training data\n",
    "heart_train |>\n",
    "    group_by(diagnosis) |>\n",
    "    summarize(count = n())"
   ]
  },
  {
   "cell_type": "markdown",
   "id": "156203b5-6e6e-41a3-bb42-7376121b324f",
   "metadata": {},
   "source": [
    "As seen with the summary table, the number of people with heart disease differs those without by approximately 100 people. This is a significant amount, considering the size of the training set. Thus, it will be taken into account when the actual classification is done. <br>\n",
    "Next, it will be useful to find the means of numerical factors after grouping the observations by the presence of heart disease as well as sex. It will highlight the difference between the two sex in the context of heart diseases."
   ]
  },
  {
   "cell_type": "code",
   "execution_count": 331,
   "id": "6ae06d70-c7ed-4638-9779-a9a30d78d061",
   "metadata": {},
   "outputs": [
    {
     "name": "stderr",
     "output_type": "stream",
     "text": [
      "\u001b[1m\u001b[22m`summarise()` has grouped output by 'diagnosis'. You can override using the\n",
      "`.groups` argument.\n"
     ]
    },
    {
     "data": {
      "text/html": [
       "<table class=\"dataframe\">\n",
       "<caption>A grouped_df: 4 × 8</caption>\n",
       "<thead>\n",
       "\t<tr><th scope=col>diagnosis</th><th scope=col>sex</th><th scope=col>count</th><th scope=col>mean_age</th><th scope=col>mean_chol</th><th scope=col>mean_thalach</th><th scope=col>mean_thalrest</th><th scope=col>mean_trestbpd</th></tr>\n",
       "\t<tr><th scope=col>&lt;fct&gt;</th><th scope=col>&lt;fct&gt;</th><th scope=col>&lt;int&gt;</th><th scope=col>&lt;dbl&gt;</th><th scope=col>&lt;dbl&gt;</th><th scope=col>&lt;dbl&gt;</th><th scope=col>&lt;dbl&gt;</th><th scope=col>&lt;dbl&gt;</th></tr>\n",
       "</thead>\n",
       "<tbody>\n",
       "\t<tr><td>0</td><td>1</td><td>142</td><td>49.33803</td><td>207.3910</td><td>141.0079</td><td>79.49606</td><td>83.48819</td></tr>\n",
       "\t<tr><td>0</td><td>0</td><td> 55</td><td>48.43636</td><td>236.9000</td><td>137.6296</td><td>79.35849</td><td>80.18519</td></tr>\n",
       "\t<tr><td>1</td><td>1</td><td>276</td><td>55.85507</td><td>145.6517</td><td>123.4089</td><td>72.01220</td><td>81.90123</td></tr>\n",
       "\t<tr><td>1</td><td>0</td><td> 20</td><td>54.00000</td><td>170.4500</td><td>134.3500</td><td>80.05000</td><td>84.35000</td></tr>\n",
       "</tbody>\n",
       "</table>\n"
      ],
      "text/latex": [
       "A grouped\\_df: 4 × 8\n",
       "\\begin{tabular}{llllllll}\n",
       " diagnosis & sex & count & mean\\_age & mean\\_chol & mean\\_thalach & mean\\_thalrest & mean\\_trestbpd\\\\\n",
       " <fct> & <fct> & <int> & <dbl> & <dbl> & <dbl> & <dbl> & <dbl>\\\\\n",
       "\\hline\n",
       "\t 0 & 1 & 142 & 49.33803 & 207.3910 & 141.0079 & 79.49606 & 83.48819\\\\\n",
       "\t 0 & 0 &  55 & 48.43636 & 236.9000 & 137.6296 & 79.35849 & 80.18519\\\\\n",
       "\t 1 & 1 & 276 & 55.85507 & 145.6517 & 123.4089 & 72.01220 & 81.90123\\\\\n",
       "\t 1 & 0 &  20 & 54.00000 & 170.4500 & 134.3500 & 80.05000 & 84.35000\\\\\n",
       "\\end{tabular}\n"
      ],
      "text/markdown": [
       "\n",
       "A grouped_df: 4 × 8\n",
       "\n",
       "| diagnosis &lt;fct&gt; | sex &lt;fct&gt; | count &lt;int&gt; | mean_age &lt;dbl&gt; | mean_chol &lt;dbl&gt; | mean_thalach &lt;dbl&gt; | mean_thalrest &lt;dbl&gt; | mean_trestbpd &lt;dbl&gt; |\n",
       "|---|---|---|---|---|---|---|---|\n",
       "| 0 | 1 | 142 | 49.33803 | 207.3910 | 141.0079 | 79.49606 | 83.48819 |\n",
       "| 0 | 0 |  55 | 48.43636 | 236.9000 | 137.6296 | 79.35849 | 80.18519 |\n",
       "| 1 | 1 | 276 | 55.85507 | 145.6517 | 123.4089 | 72.01220 | 81.90123 |\n",
       "| 1 | 0 |  20 | 54.00000 | 170.4500 | 134.3500 | 80.05000 | 84.35000 |\n",
       "\n"
      ],
      "text/plain": [
       "  diagnosis sex count mean_age mean_chol mean_thalach mean_thalrest\n",
       "1 0         1   142   49.33803 207.3910  141.0079     79.49606     \n",
       "2 0         0    55   48.43636 236.9000  137.6296     79.35849     \n",
       "3 1         1   276   55.85507 145.6517  123.4089     72.01220     \n",
       "4 1         0    20   54.00000 170.4500  134.3500     80.05000     \n",
       "  mean_trestbpd\n",
       "1 83.48819     \n",
       "2 80.18519     \n",
       "3 81.90123     \n",
       "4 84.35000     "
      ]
     },
     "metadata": {},
     "output_type": "display_data"
    }
   ],
   "source": [
    "# Summarize the training data\n",
    "heart_train |>\n",
    "    group_by(diagnosis, sex) |>\n",
    "    summarise(count = n(), mean_age = mean(age, na.rm = TRUE), mean_chol = mean(chol, na.rm = TRUE),\n",
    "             mean_thalach = mean(thalach, na.rm = TRUE), mean_thalrest = mean(thalrest, na.rm = TRUE),\n",
    "             mean_trestbpd = mean(trestbpd, na.rm = TRUE))"
   ]
  },
  {
   "cell_type": "markdown",
   "id": "2a1195d4-18c5-4243-ae75-0898a8592dcf",
   "metadata": {},
   "source": [
    "Looking at the table, it could be seen that there are more men who have heart diseases than women. Moreover, it generally requires women to have higher health statistics to have heart conditions (except for age). For both sex, people with heart diseases are generally older than those without, according to the mean."
   ]
  },
  {
   "cell_type": "code",
   "execution_count": null,
   "id": "03971604-9b7e-4b8a-b6c2-21b2b5c00fd3",
   "metadata": {},
   "outputs": [],
   "source": []
  }
 ],
 "metadata": {
  "kernelspec": {
   "display_name": "R",
   "language": "R",
   "name": "ir"
  },
  "language_info": {
   "codemirror_mode": "r",
   "file_extension": ".r",
   "mimetype": "text/x-r-source",
   "name": "R",
   "pygments_lexer": "r",
   "version": "4.1.3"
  }
 },
 "nbformat": 4,
 "nbformat_minor": 5
}
